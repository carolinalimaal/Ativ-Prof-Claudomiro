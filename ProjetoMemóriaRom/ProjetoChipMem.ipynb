{
 "cells": [
  {
   "cell_type": "code",
   "execution_count": 5,
   "metadata": {},
   "outputs": [
    {
     "ename": "SyntaxError",
     "evalue": "invalid syntax (3944273523.py, line 1)",
     "output_type": "error",
     "traceback": [
      "\u001b[1;36m  Cell \u001b[1;32mIn[5], line 1\u001b[1;36m\u001b[0m\n\u001b[1;33m    <IMG SRC='CHIP-MEM1.png'>\u001b[0m\n\u001b[1;37m    ^\u001b[0m\n\u001b[1;31mSyntaxError\u001b[0m\u001b[1;31m:\u001b[0m invalid syntax\n"
     ]
    }
   ],
   "source": [
    "<IMG SRC='CHIP-MEM1.png'>"
   ]
  },
  {
   "attachments": {},
   "cell_type": "markdown",
   "metadata": {},
   "source": [
    "CHIP DE MEMÓRIA 1 \n",
    "\n",
    "Armazenamento total = 8Gbits = 2^33 bits\n",
    "Endereço = 13bits \n",
    "BD transporta 2 palavras por vez e não pode exceder 64bits\n",
    "Palavra > célula \n",
    "\n",
    "Como o BD não pode EXCEDER 64bits, irei trabalhar com o máximo, 64bits\n",
    "Se o BD transporta 2 palavras por vez e ele tem 64bits, cada palavra tem 32bits, no máximo\n",
    "Pela necessidade da palavra ser maior que a célula, optei por ter células de 16bits\n",
    "\n",
    "Por ter 13bits de endereço, o máximo que podemos ter é uma matriz quadrada 13x13\n",
    "Logo RAS = CAS = 2^13\n",
    "\n",
    "Então temos: 2^33 = 2^4 x 2^13 x 2^13 \n",
    "\n",
    "Porém para chegar na capacidade desejada ainda faltam 3 unidades no expoente\n",
    "Então para chegar em 2^33, usarei 2^3 bancos \n",
    "\n",
    "Ficando assim: 2^33 = 2^4 x 2^13 x 2^13 x 2^3\n",
    "    \n",
    "TAMANHO DA PALAVRA: 32 BITS\n",
    "    \n",
    "TAMANHO DA CÉLULA : 16 BITS\n",
    "    \n",
    "TAMANHO DO BD     : 64 BITS\n",
    "    \n",
    "TAMANHO DO BE     : 19 BITS \n"
   ]
  },
  {
   "cell_type": "code",
   "execution_count": 6,
   "metadata": {},
   "outputs": [
    {
     "ename": "SyntaxError",
     "evalue": "invalid syntax (3010528012.py, line 1)",
     "output_type": "error",
     "traceback": [
      "\u001b[1;36m  Cell \u001b[1;32mIn[6], line 1\u001b[1;36m\u001b[0m\n\u001b[1;33m    <IMG SRC='CHIP-MEM2.png'>\u001b[0m\n\u001b[1;37m    ^\u001b[0m\n\u001b[1;31mSyntaxError\u001b[0m\u001b[1;31m:\u001b[0m invalid syntax\n"
     ]
    }
   ],
   "source": [
    "<IMG SRC='CHIP-MEM2.png'>"
   ]
  },
  {
   "attachments": {},
   "cell_type": "markdown",
   "metadata": {},
   "source": [
    "CHIP DE MEMÓRIA 2\n",
    "\n",
    "Armazenamento total = 32Gbits = 2^35 bits\n",
    "Endereço deve ser menor que 14 bits, ou seja, no máximo 13 bits\n",
    "BD = 16 bits\n",
    "\n",
    "Como o endereço deve ser < 14 bits, usarei o máximo de 13 bits\n",
    "Para aumentar a capacidade do chip sem alterar o tamanho do endereço,\n",
    "considerarei um matriz quadrada com o máximo do BE (13x13)\n",
    "\n",
    "Tendo o BD com 16 bits de tamanho, cada célula pode no máximo ter 16 bits (2^4 bits)\n",
    "considerando que será lida 1 célula a cada acesso \n",
    "\n",
    "Portanto, temos 2^35 = 2^4 x 2^13 x 2^13 \n",
    "\n",
    "Porém para chegar no 2^35, ainda faltam 5 unidades no expoente\n",
    "Então, utilizarei 2^5 bancos para atingir a capacidade total de 2^35\n",
    "\n",
    "Ficando assim: 2^35 = 2^4 x 2^13 x 2^13 x 2^5 \n",
    "\n",
    "TAMANHO DA PALAVRA E DA CÉLULA: 16 BITS\n",
    "    \n",
    "TAMANHO DO BD                 : 16 BITS\n",
    "    \n",
    "TAMANHO DO BE                 : 21 BITS"
   ]
  }
 ],
 "metadata": {
  "kernelspec": {
   "display_name": "Python 3",
   "language": "python",
   "name": "python3"
  },
  "language_info": {
   "codemirror_mode": {
    "name": "ipython",
    "version": 3
   },
   "file_extension": ".py",
   "mimetype": "text/x-python",
   "name": "python",
   "nbconvert_exporter": "python",
   "pygments_lexer": "ipython3",
   "version": "3.11.3"
  },
  "orig_nbformat": 4
 },
 "nbformat": 4,
 "nbformat_minor": 2
}
